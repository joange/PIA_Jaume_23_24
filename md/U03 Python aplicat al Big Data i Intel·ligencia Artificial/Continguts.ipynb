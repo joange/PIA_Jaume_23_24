S'estudiarà en aquesta unitat:

- Numpy
- Matplotlib
- Seaborn
- Keras
- Pandas
- ...