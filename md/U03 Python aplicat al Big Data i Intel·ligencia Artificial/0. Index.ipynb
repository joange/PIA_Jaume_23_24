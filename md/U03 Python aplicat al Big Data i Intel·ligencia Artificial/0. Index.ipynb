# Índex de la unitat

- Introducció a Numpy
- Manipulació de Dades amb Pandas
- Visualització de dades amb Matplotlib i Seaborn
- Introducció al Machine Learning amb Scikit-Learn
- Introducció al DeepLearning amb Keras

# Introducció

En la primera unitat aprenerem d'una forma general què és la programació, quins tipus de llenguatges existeixen i quins llenguatges utilitzar segons el cas. En la segona unitat, ens endinsarem en la programació general utilitzant Python, aprenent com definir de funcions, assignar variables, crida a mètodes d'objectes, el control del flux d'un programa i altres tasques bàsiques i fonamentals.

En esta tercera unitat, aprendrem Python però enfocat al món del Big Data i la Intel·ligència Artificial. Esta unitat està dissenyada per ajudar els alumnes a aprendre a utilitzar la pila de ciència de dades de Python (llibreries com NumPy, Pandas, Matplotlib, Scikit-Learn, keras i algunes eines relacionades) per emmagatzemar, manipular i obtenir informació eficaç de les dades.

Cada apartat se centrarà en una llibreria diferent:

1. Numpy: llibreria per al treball amb arrays numèrics.
2. Pandas: llibreria per a anàlisis de dades de diferent naturalesa.
3. Matplotlib: llibreria per a visualització de dades.
4. Seaborn: llibreria de visualització de dades construida sobre matplotlib.
5. Scikit-learn/sklearn: llibreria per a l'aprenentatge automàtic.
6. Keras: llibreria per a l'aprenentatge profund.

El món de la Ciència de Dades amb Python abarca moltes més llibreries, però estes són les fonamentals que s'haurien de conéixer per a introduir-se en aquest camp.

Com en la unitat anterior, continuariem utilitzant vscode, quaderns de jupyter i miniconda.